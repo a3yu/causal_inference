{
 "cells": [
  {
   "cell_type": "code",
   "execution_count": 1,
   "id": "2e36aaec-8adc-4ef4-9e7d-939170f01537",
   "metadata": {},
   "outputs": [
    {
     "name": "stdout",
     "output_type": "stream",
     "text": [
      "Requirement already satisfied: seaborn in c:\\users\\aedin\\scoop\\apps\\python\\current\\lib\\site-packages (0.13.2)\n",
      "Requirement already satisfied: numpy!=1.24.0,>=1.20 in c:\\users\\aedin\\scoop\\apps\\python\\current\\lib\\site-packages (from seaborn) (1.26.4)\n",
      "Requirement already satisfied: pandas>=1.2 in c:\\users\\aedin\\scoop\\apps\\python\\current\\lib\\site-packages (from seaborn) (2.2.2)\n",
      "Requirement already satisfied: matplotlib!=3.6.1,>=3.4 in c:\\users\\aedin\\scoop\\apps\\python\\current\\lib\\site-packages (from seaborn) (3.8.4)\n",
      "Requirement already satisfied: contourpy>=1.0.1 in c:\\users\\aedin\\scoop\\apps\\python\\current\\lib\\site-packages (from matplotlib!=3.6.1,>=3.4->seaborn) (1.2.1)\n",
      "Requirement already satisfied: cycler>=0.10 in c:\\users\\aedin\\scoop\\apps\\python\\current\\lib\\site-packages (from matplotlib!=3.6.1,>=3.4->seaborn) (0.12.1)\n",
      "Requirement already satisfied: fonttools>=4.22.0 in c:\\users\\aedin\\scoop\\apps\\python\\current\\lib\\site-packages (from matplotlib!=3.6.1,>=3.4->seaborn) (4.51.0)\n",
      "Requirement already satisfied: kiwisolver>=1.3.1 in c:\\users\\aedin\\scoop\\apps\\python\\current\\lib\\site-packages (from matplotlib!=3.6.1,>=3.4->seaborn) (1.4.5)\n",
      "Requirement already satisfied: packaging>=20.0 in c:\\users\\aedin\\scoop\\apps\\python\\current\\lib\\site-packages (from matplotlib!=3.6.1,>=3.4->seaborn) (24.0)\n",
      "Requirement already satisfied: pillow>=8 in c:\\users\\aedin\\scoop\\apps\\python\\current\\lib\\site-packages (from matplotlib!=3.6.1,>=3.4->seaborn) (9.5.0)\n",
      "Requirement already satisfied: pyparsing>=2.3.1 in c:\\users\\aedin\\scoop\\apps\\python\\current\\lib\\site-packages (from matplotlib!=3.6.1,>=3.4->seaborn) (3.1.2)\n",
      "Requirement already satisfied: python-dateutil>=2.7 in c:\\users\\aedin\\scoop\\apps\\python\\current\\lib\\site-packages (from matplotlib!=3.6.1,>=3.4->seaborn) (2.9.0.post0)\n",
      "Requirement already satisfied: pytz>=2020.1 in c:\\users\\aedin\\scoop\\apps\\python\\current\\lib\\site-packages (from pandas>=1.2->seaborn) (2024.1)\n",
      "Requirement already satisfied: tzdata>=2022.7 in c:\\users\\aedin\\scoop\\apps\\python\\current\\lib\\site-packages (from pandas>=1.2->seaborn) (2024.1)\n",
      "Requirement already satisfied: six>=1.5 in c:\\users\\aedin\\scoop\\apps\\python\\current\\lib\\site-packages (from python-dateutil>=2.7->matplotlib!=3.6.1,>=3.4->seaborn) (1.16.0)\n",
      "Requirement already satisfied: pandas in c:\\users\\aedin\\scoop\\apps\\python\\current\\lib\\site-packages (2.2.2)\n",
      "Requirement already satisfied: numpy>=1.26.0 in c:\\users\\aedin\\scoop\\apps\\python\\current\\lib\\site-packages (from pandas) (1.26.4)\n",
      "Requirement already satisfied: python-dateutil>=2.8.2 in c:\\users\\aedin\\scoop\\apps\\python\\current\\lib\\site-packages (from pandas) (2.9.0.post0)\n",
      "Requirement already satisfied: pytz>=2020.1 in c:\\users\\aedin\\scoop\\apps\\python\\current\\lib\\site-packages (from pandas) (2024.1)\n",
      "Requirement already satisfied: tzdata>=2022.7 in c:\\users\\aedin\\scoop\\apps\\python\\current\\lib\\site-packages (from pandas) (2024.1)\n",
      "Requirement already satisfied: six>=1.5 in c:\\users\\aedin\\scoop\\apps\\python\\current\\lib\\site-packages (from python-dateutil>=2.8.2->pandas) (1.16.0)\n"
     ]
    }
   ],
   "source": [
    "!pip install seaborn\n",
    "!pip install pandas"
   ]
  },
  {
   "cell_type": "code",
   "execution_count": 2,
   "id": "ac608662-f23c-403e-86ab-5ee828dca418",
   "metadata": {},
   "outputs": [],
   "source": [
    "# Import necessary libraries\n",
    "import sys\n",
    "import os\n",
    "import numpy as np\n",
    "import pandas as pd\n",
    "import seaborn as sns\n",
    "import matplotlib.pyplot as plt\n",
    "\n",
    "# Adjust Python path to include the parent directory for local imports\n",
    "sys.path.append(os.getcwd() + '/runners')\n",
    "from modular_experiment import run_experiment_poly, run_experiment_dm\n",
    "from experiment import rct\n",
    "from model import pom\n",
    "from masterplot import plot_bias_variance\n"
   ]
  },
  {
   "cell_type": "markdown",
   "id": "6db59568-77b7-4b13-887b-a41964ce7c3b",
   "metadata": {},
   "source": [
    "# Parameter Initialization ---\n",
    "Define the initial set of parameters for the experiments."
   ]
  },
  {
   "cell_type": "code",
   "execution_count": 3,
   "id": "2f8496ae-0cba-46b4-b4b4-b2f12fddc0c3",
   "metadata": {},
   "outputs": [],
   "source": [
    "params = {\n",
    "    'n': 500,           # Initial sample size\n",
    "    'nc': 50,           # Number of covariates\n",
    "    'p_in': 0.5,        # Probability of inclusion in the model\n",
    "    'p_out': 0,         # Probability of exclusion from the model\n",
    "    'beta': 2,          # Beta parameter for the experiment\n",
    "    'p': 0.5,           # Probability parameter\n",
    "    'gr': 10,           # Growth rate\n",
    "    'r': 100,           # Number of repetitions for averaging results\n",
    "    'cf': lambda i, S, G: pom.uniform_coeffs(i, S, G)  # Coefficient function generating uniform coefficients\n",
    "}"
   ]
  },
  {
   "cell_type": "markdown",
   "id": "4a5d1566-9cf1-4a77-82ea-a0ee6e2b3238",
   "metadata": {},
   "source": [
    "# Experiment Functions\n",
    "Function to update parameters dynamically during the experiment."
   ]
  },
  {
   "cell_type": "code",
   "execution_count": 4,
   "id": "c166d9d4-4f76-4a8d-bc90-3c179f6bfa01",
   "metadata": {},
   "outputs": [],
   "source": [
    "def params_update(params):\n",
    "    return {**params, 'n' : params['n']+10}\n",
    "\n",
    "def params_update_many_terms(params):\n",
    "    \"\"\" Update experimental parameters for each iteration. \"\"\"\n",
    "    n = params['n'] + 50\n",
    "    return {**params, 'n': n, 'p': 10/n}\n",
    "\n",
    "# Define the stopping condition for the experiment.\n",
    "stop_condition = lambda params: params['n'] > 800  # Stop when sample size exceeds 800"
   ]
  },
  {
   "cell_type": "markdown",
   "id": "c4f8bf63-864a-4ac3-8b7f-bb738e033f3d",
   "metadata": {},
   "source": [
    "# Execution \n",
    "Execute the experiment for the Difference-in-Means (DM) estimator"
   ]
  },
  {
   "cell_type": "code",
   "execution_count": null,
   "id": "b74a3f3e-f4fc-4de6-b28d-c000940d933a",
   "metadata": {},
   "outputs": [],
   "source": [
    "# params - initial params\n",
    "# params_update - how params change throughout the experiment\n",
    "# stop_condition - when the experiment ends based on params\n",
    "#  'n' - param to track for graphing purposes\n",
    "dm_tracked_values, dm_bias, dm_variance = run_experiment_dm(\n",
    "    params, params_update_many_terms, stop_condition, 'n')"
   ]
  },
  {
   "cell_type": "markdown",
   "id": "59b90fd7-e31f-47cd-ae8d-de289b37056a",
   "metadata": {},
   "source": [
    "# Execution \n",
    "Execute the experiment for the Polynomial (Poly) model estimator"
   ]
  },
  {
   "cell_type": "code",
   "execution_count": null,
   "id": "6a0c470c-416a-4f38-a5ac-ead377a388e6",
   "metadata": {},
   "outputs": [],
   "source": [
    "# params - initial params\n",
    "# params_update - how params change throughout the experiment\n",
    "# stop_condition - when the experiment ends based on params\n",
    "#  'n' - param to track for graphing purposes\n",
    "poly_tracked_values, poly_bias, poly_variance = run_experiment_poly(\n",
    "    params, params_update_many_terms, stop_condition, 'n')"
   ]
  },
  {
   "cell_type": "markdown",
   "id": "5b0ee507-1970-4fa0-8b1e-9eaa9c4b2980",
   "metadata": {},
   "source": [
    "# Visualization\n",
    "Compile results into a dictionary for plotting"
   ]
  },
  {
   "cell_type": "code",
   "execution_count": null,
   "id": "e7d71956-1ea5-4d5d-8fab-55c7646c9716",
   "metadata": {},
   "outputs": [],
   "source": [
    "# dm_experiment\n",
    "# 'tracked_values\" - x values\n",
    "# 'std_dev' - bias for the experiment\n",
    "# 'variance' - variance for the experiment\n",
    "dm_results = {\n",
    "    'tracked_values': dm_tracked_values,\n",
    "    'std_dev': dm_bias,\n",
    "    'variance': dm_variance\n",
    "}\n",
    "\n",
    "# poly_results\n",
    "# 'tracked_values\" - x values\n",
    "# 'std_dev' - bias for the experiment\n",
    "# 'variance' - variance for the experiment\n",
    "poly_results = {\n",
    "    'tracked_values': poly_tracked_values,\n",
    "    'std_dev': poly_bias,\n",
    "    'variance': poly_variance\n",
    "}\n",
    "\n",
    "# tracked_data\n",
    "# Attaching a name to each experiment\n",
    "tracked_data = {\n",
    "    'DM Estimator': dm_results,\n",
    "    'Poly Estimator': poly_results\n",
    "}\n",
    "\n",
    "# plot \n",
    "plot_bias_variance(tracked_data)"
   ]
  },
  {
   "cell_type": "code",
   "execution_count": null,
   "id": "b8c6993f-4401-48da-a35c-046557693487",
   "metadata": {},
   "outputs": [],
   "source": []
  }
 ],
 "metadata": {
  "kernelspec": {
   "display_name": "Python 3 (ipykernel)",
   "language": "python",
   "name": "python3"
  },
  "language_info": {
   "codemirror_mode": {
    "name": "ipython",
    "version": 3
   },
   "file_extension": ".py",
   "mimetype": "text/x-python",
   "name": "python",
   "nbconvert_exporter": "python",
   "pygments_lexer": "ipython3",
   "version": "3.12.3"
  }
 },
 "nbformat": 4,
 "nbformat_minor": 5
}
